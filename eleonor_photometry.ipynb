{
 "cells": [
  {
      "cell_type": "markdown",
      "metadata": {},
      "source": [
       "[![Open In Colab](https://colab.research.google.com/assets/colab-badge.svg)](https://github.com/astrobatty/eleonor_photometry/blob/master/eleonor_photometry.ipynb)"
      ]
  },
  {
   "cell_type": "markdown",
   "metadata": {
    "colab_type": "text",
    "id": "lGwCqdEicmkj"
   },
   "source": [
    "# Install packages"
   ]
  },
  {
   "cell_type": "code",
   "execution_count": 2,
   "metadata": {
    "colab": {
     "base_uri": "https://localhost:8080/",
     "height": 1000
    },
    "colab_type": "code",
    "id": "PYEB9V2WT9Iz",
    "outputId": "8d48885d-0ac8-4b6c-c567-bdde5f51db52"
   },
   "outputs": [
    {
     "name": "stdout",
     "output_type": "stream",
     "text": [
      "Collecting imgaug==0.2.5\n",
      "\u001b[?25l  Downloading https://files.pythonhosted.org/packages/d2/60/a06a48d85a7e9062f5870347a3e3e953da30b37928d43b380c949bca458a/imgaug-0.2.5.tar.gz (562kB)\n",
      "\u001b[K     |████████████████████████████████| 563kB 4.8MB/s \n",
      "\u001b[?25hRequirement already satisfied: scipy in /usr/local/lib/python3.6/dist-packages (from imgaug==0.2.5) (1.3.1)\n",
      "Requirement already satisfied: scikit-image>=0.11.0 in /usr/local/lib/python3.6/dist-packages (from imgaug==0.2.5) (0.15.0)\n",
      "Requirement already satisfied: numpy>=1.7.0 in /usr/local/lib/python3.6/dist-packages (from imgaug==0.2.5) (1.16.5)\n",
      "Requirement already satisfied: six in /usr/local/lib/python3.6/dist-packages (from imgaug==0.2.5) (1.12.0)\n",
      "Requirement already satisfied: networkx>=2.0 in /usr/local/lib/python3.6/dist-packages (from scikit-image>=0.11.0->imgaug==0.2.5) (2.3)\n",
      "Requirement already satisfied: pillow>=4.3.0 in /usr/local/lib/python3.6/dist-packages (from scikit-image>=0.11.0->imgaug==0.2.5) (4.3.0)\n",
      "Requirement already satisfied: matplotlib!=3.0.0,>=2.0.0 in /usr/local/lib/python3.6/dist-packages (from scikit-image>=0.11.0->imgaug==0.2.5) (3.0.3)\n",
      "Requirement already satisfied: imageio>=2.0.1 in /usr/local/lib/python3.6/dist-packages (from scikit-image>=0.11.0->imgaug==0.2.5) (2.4.1)\n",
      "Requirement already satisfied: PyWavelets>=0.4.0 in /usr/local/lib/python3.6/dist-packages (from scikit-image>=0.11.0->imgaug==0.2.5) (1.0.3)\n",
      "Requirement already satisfied: decorator>=4.3.0 in /usr/local/lib/python3.6/dist-packages (from networkx>=2.0->scikit-image>=0.11.0->imgaug==0.2.5) (4.4.0)\n",
      "Requirement already satisfied: olefile in /usr/local/lib/python3.6/dist-packages (from pillow>=4.3.0->scikit-image>=0.11.0->imgaug==0.2.5) (0.46)\n",
      "Requirement already satisfied: cycler>=0.10 in /usr/local/lib/python3.6/dist-packages (from matplotlib!=3.0.0,>=2.0.0->scikit-image>=0.11.0->imgaug==0.2.5) (0.10.0)\n",
      "Requirement already satisfied: python-dateutil>=2.1 in /usr/local/lib/python3.6/dist-packages (from matplotlib!=3.0.0,>=2.0.0->scikit-image>=0.11.0->imgaug==0.2.5) (2.5.3)\n",
      "Requirement already satisfied: pyparsing!=2.0.4,!=2.1.2,!=2.1.6,>=2.0.1 in /usr/local/lib/python3.6/dist-packages (from matplotlib!=3.0.0,>=2.0.0->scikit-image>=0.11.0->imgaug==0.2.5) (2.4.2)\n",
      "Requirement already satisfied: kiwisolver>=1.0.1 in /usr/local/lib/python3.6/dist-packages (from matplotlib!=3.0.0,>=2.0.0->scikit-image>=0.11.0->imgaug==0.2.5) (1.1.0)\n",
      "Requirement already satisfied: setuptools in /usr/local/lib/python3.6/dist-packages (from kiwisolver>=1.0.1->matplotlib!=3.0.0,>=2.0.0->scikit-image>=0.11.0->imgaug==0.2.5) (41.2.0)\n",
      "Building wheels for collected packages: imgaug\n",
      "  Building wheel for imgaug (setup.py) ... \u001b[?25l\u001b[?25hdone\n",
      "  Created wheel for imgaug: filename=imgaug-0.2.5-cp36-none-any.whl size=561439 sha256=494ad4f3c3198f7575c2c5dcf44010b3bfd2c62d9627741921b383ba005a14ab\n",
      "  Stored in directory: /root/.cache/pip/wheels/31/48/c8/ca3345e8582a078de94243996e148377ef66fdb845557bae0b\n",
      "Successfully built imgaug\n",
      "Installing collected packages: imgaug\n",
      "  Found existing installation: imgaug 0.2.9\n",
      "    Uninstalling imgaug-0.2.9:\n",
      "      Successfully uninstalled imgaug-0.2.9\n",
      "Successfully installed imgaug-0.2.5\n",
      "Collecting git+https://github.com/astropy/photutils.git\n",
      "  Cloning https://github.com/astropy/photutils.git to /tmp/pip-req-build-28xnkr0y\n",
      "  Running command git clone -q https://github.com/astropy/photutils.git /tmp/pip-req-build-28xnkr0y\n",
      "  Running command git submodule update --init --recursive -q\n",
      "  Installing build dependencies ... \u001b[?25l\u001b[?25hdone\n",
      "  Getting requirements to build wheel ... \u001b[?25l\u001b[?25hdone\n",
      "  Installing backend dependencies ... \u001b[?25l\u001b[?25hdone\n",
      "    Preparing wheel metadata ... \u001b[?25l\u001b[?25hdone\n",
      "Collecting astropy>=3.2 (from photutils==0.8.dev3936)\n",
      "\u001b[?25l  Downloading https://files.pythonhosted.org/packages/da/97/7f4356b3ff589fc23e7081f2a907a635006565d74b8fc4796bad27aa43e3/astropy-3.2.2-cp36-cp36m-manylinux1_x86_64.whl (6.3MB)\n",
      "\u001b[K     |████████████████████████████████| 6.3MB 4.9MB/s \n",
      "\u001b[?25hRequirement already satisfied: numpy>=1.13 in /usr/local/lib/python3.6/dist-packages (from photutils==0.8.dev3936) (1.16.5)\n",
      "Building wheels for collected packages: photutils\n",
      "  Building wheel for photutils (PEP 517) ... \u001b[?25l\u001b[?25hdone\n",
      "  Created wheel for photutils: filename=photutils-0.8.dev3936-cp36-cp36m-linux_x86_64.whl size=691722 sha256=88e9e0d03147d85214fa390a9e450b68af56413002dcbf16666f469f98522ac1\n",
      "  Stored in directory: /tmp/pip-ephem-wheel-cache-lc7rk8ee/wheels/56/73/39/378c46e4373a6258af7a6af2fc8af00f4a247480d500d3d423\n",
      "Successfully built photutils\n",
      "Installing collected packages: astropy, photutils\n",
      "  Found existing installation: astropy 3.0.5\n",
      "    Uninstalling astropy-3.0.5:\n",
      "      Successfully uninstalled astropy-3.0.5\n",
      "Successfully installed astropy-3.2.2 photutils-0.8.dev3936\n",
      "Collecting eleanor\n",
      "  Downloading https://files.pythonhosted.org/packages/dc/49/f48c45cdf9f606bc239a8cfdb7c17bba57b6de436386230d8101b06008a6/eleanor-0.2.9.tar.gz\n",
      "Collecting mplcursors (from eleanor)\n",
      "  Downloading https://files.pythonhosted.org/packages/5e/5f/3853620d0e04b893318e3ba20c0da1f24b56d5f2a08f7a2adf5ba86ea1c0/mplcursors-0.3-py3-none-any.whl\n",
      "Requirement already satisfied: photutils in /usr/local/lib/python3.6/dist-packages (from eleanor) (0.8.dev3936)\n",
      "Requirement already satisfied: tqdm in /usr/local/lib/python3.6/dist-packages (from eleanor) (4.28.1)\n",
      "Collecting lightkurve>=1.1.0 (from eleanor)\n",
      "\u001b[?25l  Downloading https://files.pythonhosted.org/packages/8f/95/e9f1b3b731eb0436227b0728587ce9a22546c54f394b08da4586db2f8f77/lightkurve-1.2.0.tar.gz (477kB)\n",
      "\u001b[K     |████████████████████████████████| 481kB 12.7MB/s \n",
      "\u001b[?25hRequirement already satisfied: astropy in /usr/local/lib/python3.6/dist-packages (from eleanor) (3.2.2)\n",
      "Collecting astroquery (from eleanor)\n",
      "\u001b[?25l  Downloading https://files.pythonhosted.org/packages/52/30/4e93561fa1426a0e1e93dcb7ed05405968fc2792c49d43da023620c9bbc4/astroquery-0.3.10.tar.gz (4.4MB)\n",
      "\u001b[K     |████████████████████████████████| 4.4MB 49.0MB/s \n",
      "\u001b[?25hRequirement already satisfied: bokeh in /usr/local/lib/python3.6/dist-packages (from eleanor) (1.0.4)\n",
      "Collecting muchbettermoments (from eleanor)\n",
      "  Downloading https://files.pythonhosted.org/packages/65/48/3cca94e50117944ad2c2c4180a26fe229f74454789de591eef9538eacb82/muchbettermoments-1.0.0.tar.gz\n",
      "Collecting fitsio (from eleanor)\n",
      "\u001b[?25l  Downloading https://files.pythonhosted.org/packages/87/c1/be76515a52004b261febf2c2074f0c2fd730b71b331e2cc69480952e1ed3/fitsio-1.0.5.tar.gz (4.8MB)\n",
      "\u001b[K     |████████████████████████████████| 4.8MB 38.9MB/s \n",
      "\u001b[?25hRequirement already satisfied: pandas in /usr/local/lib/python3.6/dist-packages (from eleanor) (0.24.2)\n",
      "Requirement already satisfied: setuptools>=41.0.0 in /usr/local/lib/python3.6/dist-packages (from eleanor) (41.2.0)\n",
      "Collecting tensorflow<=1.14.0 (from eleanor)\n",
      "\u001b[?25l  Downloading https://files.pythonhosted.org/packages/de/f0/96fb2e0412ae9692dbf400e5b04432885f677ad6241c088ccc5fe7724d69/tensorflow-1.14.0-cp36-cp36m-manylinux1_x86_64.whl (109.2MB)\n",
      "\u001b[K     |████████████████████████████████| 109.2MB 1.2MB/s \n",
      "\u001b[?25hCollecting vaneska (from eleanor)\n",
      "  Downloading https://files.pythonhosted.org/packages/e7/63/5899fdb4e24c23307e1d6c0c359265edf762c56aeb8f022450e358814efe/vaneska-0.0.dev0.tar.gz\n",
      "Requirement already satisfied: beautifulsoup4>=4.6.0 in /usr/local/lib/python3.6/dist-packages (from eleanor) (4.6.3)\n",
      "Collecting tess-point (from eleanor)\n",
      "  Downloading https://files.pythonhosted.org/packages/00/ea/d187227987136bd0f05188834c8b25b8db589bd3393509e0dfb63c8ce64d/tess-point-0.3.7.tar.gz\n",
      "Collecting matplotlib>=3.1 (from mplcursors->eleanor)\n",
      "\u001b[?25l  Downloading https://files.pythonhosted.org/packages/57/4f/dd381ecf6c6ab9bcdaa8ea912e866dedc6e696756156d8ecc087e20817e2/matplotlib-3.1.1-cp36-cp36m-manylinux1_x86_64.whl (13.1MB)\n",
      "\u001b[K     |████████████████████████████████| 13.1MB 37.6MB/s \n",
      "\u001b[?25hRequirement already satisfied: numpy>=1.13 in /usr/local/lib/python3.6/dist-packages (from photutils->eleanor) (1.16.5)\n",
      "Requirement already satisfied: scipy>=0.19.0 in /usr/local/lib/python3.6/dist-packages (from lightkurve>=1.1.0->eleanor) (1.3.1)\n",
      "Collecting oktopus (from lightkurve>=1.1.0->eleanor)\n",
      "  Downloading https://files.pythonhosted.org/packages/2d/6e/7b7e11442ff70286c22614d200f6145f83528dc6c99fec0982665e25c8d3/oktopus-0.1.2.tar.gz\n",
      "Requirement already satisfied: bs4 in /usr/local/lib/python3.6/dist-packages (from lightkurve>=1.1.0->eleanor) (0.0.1)\n",
      "Requirement already satisfied: requests in /usr/local/lib/python3.6/dist-packages (from lightkurve>=1.1.0->eleanor) (2.21.0)\n",
      "Collecting uncertainties (from lightkurve>=1.1.0->eleanor)\n",
      "\u001b[?25l  Downloading https://files.pythonhosted.org/packages/2a/c2/babbe5b16141859dd799ed31c03987100a7b6d0ca7c0ed4429c96ce60fdf/uncertainties-3.1.2.tar.gz (232kB)\n",
      "\u001b[K     |████████████████████████████████| 235kB 33.8MB/s \n",
      "\u001b[?25hCollecting keyring>=4.0 (from astroquery->eleanor)\n",
      "  Downloading https://files.pythonhosted.org/packages/b1/08/ad1ae7262c8146bee3be360cc766d0261037a90b44872b080a53aaed4e84/keyring-19.2.0-py2.py3-none-any.whl\n",
      "Requirement already satisfied: html5lib>=0.999 in /usr/local/lib/python3.6/dist-packages (from astroquery->eleanor) (1.0.1)\n",
      "Requirement already satisfied: six in /usr/local/lib/python3.6/dist-packages (from astroquery->eleanor) (1.12.0)\n",
      "Requirement already satisfied: tornado>=4.3 in /usr/local/lib/python3.6/dist-packages (from bokeh->eleanor) (4.5.3)\n",
      "Requirement already satisfied: packaging>=16.8 in /usr/local/lib/python3.6/dist-packages (from bokeh->eleanor) (19.2)\n",
      "Requirement already satisfied: Jinja2>=2.7 in /usr/local/lib/python3.6/dist-packages (from bokeh->eleanor) (2.10.3)\n",
      "Requirement already satisfied: PyYAML>=3.10 in /usr/local/lib/python3.6/dist-packages (from bokeh->eleanor) (3.13)\n",
      "Requirement already satisfied: pillow>=4.0 in /usr/local/lib/python3.6/dist-packages (from bokeh->eleanor) (4.3.0)\n",
      "Requirement already satisfied: python-dateutil>=2.1 in /usr/local/lib/python3.6/dist-packages (from bokeh->eleanor) (2.5.3)\n",
      "Requirement already satisfied: pytz>=2011k in /usr/local/lib/python3.6/dist-packages (from pandas->eleanor) (2018.9)\n",
      "Requirement already satisfied: astor>=0.6.0 in /usr/local/lib/python3.6/dist-packages (from tensorflow<=1.14.0->eleanor) (0.8.0)\n",
      "Requirement already satisfied: absl-py>=0.7.0 in /usr/local/lib/python3.6/dist-packages (from tensorflow<=1.14.0->eleanor) (0.8.0)\n",
      "Requirement already satisfied: protobuf>=3.6.1 in /usr/local/lib/python3.6/dist-packages (from tensorflow<=1.14.0->eleanor) (3.7.1)\n",
      "Collecting tensorflow-estimator<1.15.0rc0,>=1.14.0rc0 (from tensorflow<=1.14.0->eleanor)\n",
      "\u001b[?25l  Downloading https://files.pythonhosted.org/packages/3c/d5/21860a5b11caf0678fbc8319341b0ae21a07156911132e0e71bffed0510d/tensorflow_estimator-1.14.0-py2.py3-none-any.whl (488kB)\n",
      "\u001b[K     |████████████████████████████████| 491kB 40.6MB/s \n",
      "\u001b[?25hRequirement already satisfied: gast>=0.2.0 in /usr/local/lib/python3.6/dist-packages (from tensorflow<=1.14.0->eleanor) (0.2.2)\n",
      "Requirement already satisfied: termcolor>=1.1.0 in /usr/local/lib/python3.6/dist-packages (from tensorflow<=1.14.0->eleanor) (1.1.0)\n",
      "Requirement already satisfied: keras-preprocessing>=1.0.5 in /usr/local/lib/python3.6/dist-packages (from tensorflow<=1.14.0->eleanor) (1.1.0)\n",
      "Requirement already satisfied: keras-applications>=1.0.6 in /usr/local/lib/python3.6/dist-packages (from tensorflow<=1.14.0->eleanor) (1.0.8)\n",
      "Requirement already satisfied: grpcio>=1.8.6 in /usr/local/lib/python3.6/dist-packages (from tensorflow<=1.14.0->eleanor) (1.15.0)\n",
      "Requirement already satisfied: wheel>=0.26 in /usr/local/lib/python3.6/dist-packages (from tensorflow<=1.14.0->eleanor) (0.33.6)\n",
      "Requirement already satisfied: google-pasta>=0.1.6 in /usr/local/lib/python3.6/dist-packages (from tensorflow<=1.14.0->eleanor) (0.1.7)\n",
      "Collecting tensorboard<1.15.0,>=1.14.0 (from tensorflow<=1.14.0->eleanor)\n",
      "\u001b[?25l  Downloading https://files.pythonhosted.org/packages/91/2d/2ed263449a078cd9c8a9ba50ebd50123adf1f8cfbea1492f9084169b89d9/tensorboard-1.14.0-py3-none-any.whl (3.1MB)\n",
      "\u001b[K     |████████████████████████████████| 3.2MB 42.8MB/s \n",
      "\u001b[?25hRequirement already satisfied: wrapt>=1.11.1 in /usr/local/lib/python3.6/dist-packages (from tensorflow<=1.14.0->eleanor) (1.11.2)\n",
      "Requirement already satisfied: kiwisolver>=1.0.1 in /usr/local/lib/python3.6/dist-packages (from matplotlib>=3.1->mplcursors->eleanor) (1.1.0)\n",
      "Requirement already satisfied: cycler>=0.10 in /usr/local/lib/python3.6/dist-packages (from matplotlib>=3.1->mplcursors->eleanor) (0.10.0)\n",
      "Requirement already satisfied: pyparsing!=2.0.4,!=2.1.2,!=2.1.6,>=2.0.1 in /usr/local/lib/python3.6/dist-packages (from matplotlib>=3.1->mplcursors->eleanor) (2.4.2)\n",
      "Requirement already satisfied: autograd in /usr/local/lib/python3.6/dist-packages (from oktopus->lightkurve>=1.1.0->eleanor) (1.3)\n",
      "Requirement already satisfied: certifi>=2017.4.17 in /usr/local/lib/python3.6/dist-packages (from requests->lightkurve>=1.1.0->eleanor) (2019.9.11)\n",
      "Requirement already satisfied: urllib3<1.25,>=1.21.1 in /usr/local/lib/python3.6/dist-packages (from requests->lightkurve>=1.1.0->eleanor) (1.24.3)\n",
      "Requirement already satisfied: idna<2.9,>=2.5 in /usr/local/lib/python3.6/dist-packages (from requests->lightkurve>=1.1.0->eleanor) (2.8)\n",
      "Requirement already satisfied: chardet<3.1.0,>=3.0.2 in /usr/local/lib/python3.6/dist-packages (from requests->lightkurve>=1.1.0->eleanor) (3.0.4)\n",
      "Collecting secretstorage; sys_platform == \"linux\" (from keyring>=4.0->astroquery->eleanor)\n",
      "  Downloading https://files.pythonhosted.org/packages/82/59/cb226752e20d83598d7fdcabd7819570b0329a61db07cfbdd21b2ef546e3/SecretStorage-3.1.1-py3-none-any.whl\n",
      "Requirement already satisfied: entrypoints in /usr/local/lib/python3.6/dist-packages (from keyring>=4.0->astroquery->eleanor) (0.3)\n",
      "Requirement already satisfied: webencodings in /usr/local/lib/python3.6/dist-packages (from html5lib>=0.999->astroquery->eleanor) (0.5.1)\n",
      "Requirement already satisfied: MarkupSafe>=0.23 in /usr/local/lib/python3.6/dist-packages (from Jinja2>=2.7->bokeh->eleanor) (1.1.1)\n",
      "Requirement already satisfied: olefile in /usr/local/lib/python3.6/dist-packages (from pillow>=4.0->bokeh->eleanor) (0.46)\n",
      "Requirement already satisfied: h5py in /usr/local/lib/python3.6/dist-packages (from keras-applications>=1.0.6->tensorflow<=1.14.0->eleanor) (2.8.0)\n",
      "Requirement already satisfied: markdown>=2.6.8 in /usr/local/lib/python3.6/dist-packages (from tensorboard<1.15.0,>=1.14.0->tensorflow<=1.14.0->eleanor) (3.1.1)\n",
      "Requirement already satisfied: werkzeug>=0.11.15 in /usr/local/lib/python3.6/dist-packages (from tensorboard<1.15.0,>=1.14.0->tensorflow<=1.14.0->eleanor) (0.16.0)\n",
      "Requirement already satisfied: future>=0.15.2 in /usr/local/lib/python3.6/dist-packages (from autograd->oktopus->lightkurve>=1.1.0->eleanor) (0.16.0)\n",
      "Collecting cryptography (from secretstorage; sys_platform == \"linux\"->keyring>=4.0->astroquery->eleanor)\n",
      "\u001b[?25l  Downloading https://files.pythonhosted.org/packages/ca/9a/7cece52c46546e214e10811b36b2da52ce1ea7fa203203a629b8dfadad53/cryptography-2.8-cp34-abi3-manylinux2010_x86_64.whl (2.3MB)\n",
      "\u001b[K     |████████████████████████████████| 2.3MB 41.0MB/s \n",
      "\u001b[?25hCollecting jeepney (from secretstorage; sys_platform == \"linux\"->keyring>=4.0->astroquery->eleanor)\n",
      "\u001b[?25l  Downloading https://files.pythonhosted.org/packages/0a/4c/ef880713a6c6d628869596703167eab2edf8e0ec2d870d1089dcb0901b81/jeepney-0.4.1-py3-none-any.whl (60kB)\n",
      "\u001b[K     |████████████████████████████████| 61kB 25.1MB/s \n",
      "\u001b[?25hRequirement already satisfied: cffi!=1.11.3,>=1.8 in /usr/local/lib/python3.6/dist-packages (from cryptography->secretstorage; sys_platform == \"linux\"->keyring>=4.0->astroquery->eleanor) (1.12.3)\n",
      "Requirement already satisfied: pycparser in /usr/local/lib/python3.6/dist-packages (from cffi!=1.11.3,>=1.8->cryptography->secretstorage; sys_platform == \"linux\"->keyring>=4.0->astroquery->eleanor) (2.19)\n",
      "Building wheels for collected packages: eleanor, lightkurve, astroquery, muchbettermoments, fitsio, vaneska, tess-point, oktopus, uncertainties\n",
      "  Building wheel for eleanor (setup.py) ... \u001b[?25l\u001b[?25hdone\n",
      "  Created wheel for eleanor: filename=eleanor-0.2.9-py2.py3-none-any.whl size=40313 sha256=957ed58ec7cb57eb777841744e1a8716f6aabd7f3a1e6932b7ef7246bf9d98cd\n",
      "  Stored in directory: /root/.cache/pip/wheels/80/40/63/f8b83cc2ee3559a0b17f255a9ea7884f8ff11b1a769bea92d3\n",
      "  Building wheel for lightkurve (setup.py) ... \u001b[?25l\u001b[?25hdone\n",
      "  Created wheel for lightkurve: filename=lightkurve-1.2.0-cp36-none-any.whl size=498126 sha256=bad2d347e0cf31a6fcb6c374e3c1a3e9a4c6e486b4e2e023e59bbff3f7aa27e3\n",
      "  Stored in directory: /root/.cache/pip/wheels/c9/b0/6a/30512b5211e9a2c91fbcc088b4151b9dbc46f80d0464c2fb34\n",
      "  Building wheel for astroquery (setup.py) ... \u001b[?25l\u001b[?25hdone\n",
      "  Created wheel for astroquery: filename=astroquery-0.3.10-cp36-none-any.whl size=3508444 sha256=92c5fdae42859ed1357de64afea912b1564deb098221dea773e7c6c5ffce70ee\n",
      "  Stored in directory: /root/.cache/pip/wheels/cb/2f/df/06562d703b7f0577221c87174ae12bf4dcab0d40e8a02a8988\n",
      "  Building wheel for muchbettermoments (setup.py) ... \u001b[?25l\u001b[?25hdone\n",
      "  Created wheel for muchbettermoments: filename=muchbettermoments-1.0.0-py2.py3-none-any.whl size=2491 sha256=ec8dba71b2dc529487f0171a06762e97d278c3b7305c1b6e4be2adfc9b2266c4\n",
      "  Stored in directory: /root/.cache/pip/wheels/0d/0e/a8/03e897b86885e6d13b6f71b1e8b3cdc09e4ae9a4d14d732b61\n",
      "  Building wheel for fitsio (setup.py) ... \u001b[?25l\u001b[?25hdone\n",
      "  Created wheel for fitsio: filename=fitsio-1.0.5-cp36-cp36m-linux_x86_64.whl size=1668341 sha256=dc7fb611a0fd053aa916d4c751a10bff4f6f9751985724d42f49e098a742fcff\n",
      "  Stored in directory: /root/.cache/pip/wheels/7d/23/2f/53e62dabda9ef78b0204a10a095e9dd89837e08a0f5c2865c6\n",
      "  Building wheel for vaneska (setup.py) ... \u001b[?25l\u001b[?25hdone\n",
      "  Created wheel for vaneska: filename=vaneska-0.0.dev0-cp36-none-any.whl size=2567 sha256=f6514c9e271eed8af0954960cf486071904b171a3ec47b353700380bd8d59b0b\n",
      "  Stored in directory: /root/.cache/pip/wheels/44/d9/6e/f371b89ebd7487b96e363c9d738e8865d6a208cc1b7deb3926\n",
      "  Building wheel for tess-point (setup.py) ... \u001b[?25l\u001b[?25hdone\n",
      "  Created wheel for tess-point: filename=tess_point-0.3.7-cp36-none-any.whl size=19617 sha256=f9dc343084f79bd523c5d763262fcff99e3451ebb8a4ebb081da68c1013441b5\n",
      "  Stored in directory: /root/.cache/pip/wheels/63/f9/e9/f4dd028f856f025d7159ef09e899df35d4357bd03049f81d1d\n",
      "  Building wheel for oktopus (setup.py) ... \u001b[?25l\u001b[?25hdone\n",
      "  Created wheel for oktopus: filename=oktopus-0.1.2-cp36-none-any.whl size=12779 sha256=e56eb240f7fba9939ea83fb40d016e5c232d44aef7eea21083681322bb61ddd7\n",
      "  Stored in directory: /root/.cache/pip/wheels/9b/90/81/098fc66ee56166d63c9a8fc0a9672ae7b3423396a588ec952a\n",
      "  Building wheel for uncertainties (setup.py) ... \u001b[?25l\u001b[?25hdone\n",
      "  Created wheel for uncertainties: filename=uncertainties-3.1.2-cp36-none-any.whl size=96457 sha256=0c30bd816c0467c157a3644d07cee7364614051d6f97d19bdc23aa8c5051c67c\n",
      "  Stored in directory: /root/.cache/pip/wheels/d9/d3/0e/5b0b743a8abd50373705427438456da5dc2621891138d7a618\n",
      "Successfully built eleanor lightkurve astroquery muchbettermoments fitsio vaneska tess-point oktopus uncertainties\n",
      "Installing collected packages: matplotlib, mplcursors, cryptography, jeepney, secretstorage, keyring, astroquery, oktopus, uncertainties, lightkurve, muchbettermoments, fitsio, tensorflow-estimator, tensorboard, tensorflow, vaneska, tess-point, eleanor\n",
      "  Found existing installation: matplotlib 3.0.3\n",
      "    Uninstalling matplotlib-3.0.3:\n",
      "      Successfully uninstalled matplotlib-3.0.3\n",
      "  Found existing installation: tensorflow-estimator 1.15.1\n",
      "    Uninstalling tensorflow-estimator-1.15.1:\n",
      "      Successfully uninstalled tensorflow-estimator-1.15.1\n",
      "  Found existing installation: tensorboard 1.15.0\n",
      "    Uninstalling tensorboard-1.15.0:\n",
      "      Successfully uninstalled tensorboard-1.15.0\n",
      "  Found existing installation: tensorflow 1.15.0rc3\n",
      "    Uninstalling tensorflow-1.15.0rc3:\n",
      "      Successfully uninstalled tensorflow-1.15.0rc3\n",
      "Successfully installed astroquery-0.3.10 cryptography-2.8 eleanor-0.2.9 fitsio-1.0.5 jeepney-0.4.1 keyring-19.2.0 lightkurve-1.2.0 matplotlib-3.1.1 mplcursors-0.3 muchbettermoments-1.0.0 oktopus-0.1.2 secretstorage-3.1.1 tensorboard-1.14.0 tensorflow-1.14.0 tensorflow-estimator-1.14.0 tess-point-0.3.7 uncertainties-3.1.2 vaneska-0.0.dev0\n"
     ]
    },
    {
     "data": {
      "application/vnd.colab-display-data+json": {
       "pip_warning": {
        "packages": [
         "matplotlib",
         "mpl_toolkits"
        ]
       }
      }
     },
     "metadata": {
      "tags": []
     },
     "output_type": "display_data"
    }
   ],
   "source": [
    "!pip install imgaug==0.2.5\n",
    "!pip install git+https://github.com/astropy/photutils.git\n",
    "!pip install eleanor"
   ]
  },
  {
   "cell_type": "markdown",
   "metadata": {
    "colab_type": "text",
    "id": "0mYXEWoMc3uR"
   },
   "source": [
    "# Import packages"
   ]
  },
  {
   "cell_type": "code",
   "execution_count": 0,
   "metadata": {
    "colab": {},
    "colab_type": "code",
    "collapsed": true,
    "id": "mfV6_LscW-i8"
   },
   "outputs": [],
   "source": [
    "import eleanor\n",
    "import numpy as np\n",
    "import matplotlib.pyplot as plt\n",
    "\n",
    "%matplotlib inline"
   ]
  },
  {
   "cell_type": "markdown",
   "metadata": {
    "colab_type": "text",
    "id": "uFeBIBLtc7FS"
   },
   "source": [
    "# Extract photometry from one specific TESS sector"
   ]
  },
  {
   "cell_type": "code",
   "execution_count": 2,
   "metadata": {
    "colab": {
     "base_uri": "https://localhost:8080/",
     "height": 105
    },
    "colab_type": "code",
    "id": "IQD1bCZxXkfB",
    "outputId": "661c252c-f659-4e71-ecc8-6143c80cbfa7"
   },
   "outputs": [
    {
     "name": "stderr",
     "output_type": "stream",
     "text": [
      "/usr/local/lib/python3.6/dist-packages/eleanor/source.py:396: UserWarning: Warning: unable to create .. Downloading TessCut to the current working directory instead.\n",
      "  'working directory instead.'.format(download_dir))\n"
     ]
    },
    {
     "name": "stdout",
     "output_type": "stream",
     "text": [
      "Downloading URL https://mast.stsci.edu/tesscut/api/v0.1/astrocut?ra=68.9597092399964&dec=-64.0270368810381&y=31&x=31&units=px&sector=6 to ./tesscut_20191017205307.zip ... [Done]\n",
      "Inflating...\n"
     ]
    }
   ],
   "source": [
    "# Get data\n",
    "star = eleanor.Source(tic=38846515, sector=6, tc=True)"
   ]
  },
  {
   "cell_type": "code",
   "execution_count": 0,
   "metadata": {
    "colab": {},
    "colab_type": "code",
    "collapsed": true,
    "id": "aD37S26UXo_X"
   },
   "outputs": [],
   "source": [
    "# Do PSF photometry\n",
    "data = eleanor.TargetData(star, height=11, width=11, bkg_size=31, do_psf=True, do_pca=True)"
   ]
  },
  {
   "cell_type": "code",
   "execution_count": 4,
   "metadata": {
    "colab": {
     "base_uri": "https://localhost:8080/",
     "height": 265
    },
    "colab_type": "code",
    "id": "PqqsvgeEXzcL",
    "outputId": "991677b5-99ad-4ef8-9952-511289b1c01e"
   },
   "outputs": [
    {
     "data": {
      "image/png": "[encoded data removed]",
      "text/plain": [
       "<Figure size 432x288 with 1 Axes>"
      ]
     },
     "metadata": {
      "tags": []
     },
     "output_type": "display_data"
    }
   ],
   "source": [
    "# Plot TPF\n",
    "plt.imshow(data.tpf[0])\n",
    "plt.show()"
   ]
  },
  {
   "cell_type": "code",
   "execution_count": 5,
   "metadata": {
    "colab": {
     "base_uri": "https://localhost:8080/",
     "height": 265
    },
    "colab_type": "code",
    "id": "CC3D1JACX6vX",
    "outputId": "3c5a01f1-f1ef-4659-d7ef-ccaa144cf31b"
   },
   "outputs": [
    {
     "data": {
      "image/png": "[encoded data removed]",
      "text/plain": [
       "<Figure size 432x288 with 1 Axes>"
      ]
     },
     "metadata": {
      "tags": []
     },
     "output_type": "display_data"
    }
   ],
   "source": [
    "# Plot light curve\n",
    "q = data.quality == 0\n",
    "plt.plot(data.time[q], data.psf_flux[q], '.')\n",
    "#plt.ylim(14300,14600)\n",
    "plt.show()"
   ]
  },
  {
   "cell_type": "code",
   "execution_count": 0,
   "metadata": {
    "colab": {},
    "colab_type": "code",
    "collapsed": true,
    "id": "48CFEUyFcgCx"
   },
   "outputs": [],
   "source": [
    "# Save light curve to ASCII file\n",
    "np.savetxt('lc.txt', np.c_[data.time[q], data.psf_flux[q], data.flux_err[q]] )"
   ]
  },
  {
   "cell_type": "markdown",
   "metadata": {
    "colab_type": "text",
    "id": "4q15lHC7dG_V"
   },
   "source": [
    "# Extract photometry from all available TESS sectors"
   ]
  },
  {
   "cell_type": "code",
   "execution_count": 0,
   "metadata": {
    "colab": {
     "base_uri": "https://localhost:8080/",
     "height": 34
    },
    "colab_type": "code",
    "id": "vkbGRv6gYDf9",
    "outputId": "b669a095-631d-466d-af4a-bba69fa71833"
   },
   "outputs": [
    {
     "name": "stdout",
     "output_type": "stream",
     "text": [
      "Found star in Sector(s) 2 5 8 9 10 11 12\n"
     ]
    }
   ],
   "source": [
    "# Get data from all sectors\n",
    "star = eleanor.multi_sectors(tic=307210830, sectors='all', tc=True)"
   ]
  },
  {
   "cell_type": "code",
   "execution_count": 0,
   "metadata": {
    "colab": {},
    "colab_type": "code",
    "collapsed": true,
    "id": "eKPbhb40YY6u"
   },
   "outputs": [],
   "source": [
    "# Plot and save light curve\n",
    "plt.figure(figsize=(15,5))\n",
    "for i in range(len(star)):\n",
    "    print(i)\n",
    "    data0 = eleanor.TargetData(star[i], height=11, width=11, bkg_size=31, do_psf=True, do_pca=True)\n",
    "\n",
    "    q0 = data0.quality == 0\n",
    "\n",
    "    plt.plot(data0.time[q0], data0.psf_flux[q0]/np.median(data0.psf_flux[q0]), 'k.')\n",
    "    \n",
    "    np.savetxt('lc_%d.txt' % i, np.c_[data0.time[q0], data0.psf_flux[q0], data0.flux_err[q0]] )\n",
    "\n",
    "plt.ylabel('Normalized Flux', fontsize=24)\n",
    "plt.xlabel('Time', fontsize=24)\n",
    "plt.yticks(fontsize=18)\n",
    "plt.xticks(fontsize=18)\n",
    "\n",
    "plt.ylim(0.995, 1.002)\n",
    "\n",
    "plt.show()"
   ]
  },
  {
   "cell_type": "code",
   "execution_count": 0,
   "metadata": {
    "colab": {},
    "colab_type": "code",
    "collapsed": true,
    "id": "cL-kwuxwf0Ka"
   },
   "outputs": [],
   "source": []
  }
 ],
 "metadata": {
  "colab": {
   "name": "Untitled5.ipynb",
   "provenance": [],
   "toc_visible": true
  },
  "kernelspec": {
   "display_name": "Python 3",
   "language": "python",
   "name": "python3"
  },
  "language_info": {
   "codemirror_mode": {
    "name": "ipython",
    "version": 3
   },
   "file_extension": ".py",
   "mimetype": "text/x-python",
   "name": "python",
   "nbconvert_exporter": "python",
   "pygments_lexer": "ipython3",
   "version": "3.7.2"
  }
 },
 "nbformat": 4,
 "nbformat_minor": 1
}
